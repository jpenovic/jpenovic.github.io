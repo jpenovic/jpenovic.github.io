{
 "cells": [
  {
   "cell_type": "markdown",
   "metadata": {},
   "source": [
    "# **Determining a Driver's Inebriation Status using Regression Analysis**\n",
    "Joseph Penovich - UID: 117210156<br>\n",
    "CMSC320: Introduction to Data Science - Summer 2023<br>\n",
    "Due August 20th, 2023\n",
    "\n",
    "## Table of Contents\n",
    "insert table of contents\n",
    "## Introduction\n",
    "### Background\n",
    "The United States has one of the highest rates of deaths caused by vehicles accidents involving alcohol, which is difficult to attribute to any one factor. Arguments can be made about factors including the US's car dependent infrastructure, it's culture and stigma surrounding drinking alcohol, local state and county traffic legislation, and more. One thing that can be agreed upon is that there is absolutely no reason or justification for driving while under the influence. It can be difficult for police to determine whether a traffic incident involves alcohol without conducting sobriety tests on those involved. \n",
    "\n",
    "This project seeks to identify factors that may indicate whether or not an accident involves an inebriated driver(s) using exploratory data analysis, and make predictions on a drivers inebriation tests using machine learning techniques such as logistic regression before police have the chance to conduct sobriety tests on involved individuals. \n",
    "### Data \n",
    "Montgomery County is Maryland's most populated county, and its residents come from a wide range of socioeconomic backgrounds. The data used in this project is a compiled list of traffic incidents involving collisions in Montgomery County from (date) to (date). This data was retrieved from the **U.S. Governments Public Open Data** site (`https://data.gov`) in addition to Montgomery County's Public Database, **Data Montgomery** (`https://data.montgomerycountymd.gov/`). The data includes factors such as Crash Date & Time, Injury Severity, Vehicle Damage Extent, Driver Substance Abuse, and more. \n",
    "***\n",
    "## **Part 1: Data Collection, Parsing, and Management**\n",
    "Let's get all the imports that we're going to use for this project, as well as our datasets.<br>\n",
    "We'll be using two datasets provided by Data Montgomery, which are the datasets **\"Crash Reporting - Drivers Data\"**, which includes information of the driver(s) in an incident, and **\"Crash Reporting - Incidents Data**, which includes general information about the incident itself. The dataset files for this project were downloaded into the directory rather than retrieved using queries. \n",
    "\n",
    "**Crash Reporting - Drivers Data:** `https://data.montgomerycountymd.gov/Public-Safety/Crash-Reporting-Drivers-Data/mmzv-x632`\n",
    "**Crash Reporting - Incidents Data:** `https://data.montgomerycountymd.gov/Public-Safety/Crash-Reporting-Incidents-Data/bhju-22kf`"
   ]
  },
  {
   "cell_type": "code",
   "execution_count": 28,
   "metadata": {},
   "outputs": [
    {
     "name": "stdout",
     "output_type": "stream",
     "text": [
      "Driver shape: (164293, 43), Incident shape: (92987, 44)\n"
     ]
    }
   ],
   "source": [
    "# Necessary imports for data management, exploration, and machine learning\n",
    "import pandas as pd\n",
    "import numpy as np\n",
    "\n",
    "# Format dataset into Pandas Dataframe\n",
    "driverData = pd.read_csv('moco_crash_data_drivers.csv', dtype={'Local Case Number':'str'})\n",
    "incidentData = pd.read_csv('moco_crash_data_incidents.csv')\n",
    "print(f\"Driver shape: {driverData.shape}, Incident shape: {incidentData.shape}\")"
   ]
  },
  {
   "cell_type": "code",
   "execution_count": null,
   "metadata": {},
   "outputs": [],
   "source": [
    "print(driverData.head(1000).to_string())"
   ]
  },
  {
   "cell_type": "code",
   "execution_count": null,
   "metadata": {},
   "outputs": [],
   "source": [
    "print(incidentData.head(1000).to_string())"
   ]
  },
  {
   "cell_type": "markdown",
   "metadata": {},
   "source": [
    "What we're curious about is what actually is the difference between the two datasets? We know that the drivers data includes more information about the driver, while the incidents data includes more general information, but what specifically so we know what to merge and what to drop?"
   ]
  },
  {
   "cell_type": "code",
   "execution_count": 25,
   "metadata": {},
   "outputs": [
    {
     "name": "stdout",
     "output_type": "stream",
     "text": [
      "Shared Variables: ['ACRS Report Type' 'Agency Name' 'Collision Type' 'Crash Date/Time'\n",
      " 'Cross-Street Name' 'Cross-Street Type' 'Driver Substance Abuse'\n",
      " 'Latitude' 'Light' 'Local Case Number' 'Location' 'Longitude'\n",
      " 'Municipality' 'Non-Motorist Substance Abuse' 'Off-Road Description'\n",
      " 'Related Non-Motorist' 'Report Number' 'Road Name' 'Route Type'\n",
      " 'Surface Condition' 'Traffic Control' 'Weather']\n",
      "['Circumstance' 'Driver At Fault' 'Driver Distracted By'\n",
      " 'Driverless Vehicle' 'Drivers License State' 'Equipment Problems'\n",
      " 'Injury Severity' 'Parked Vehicle' 'Person ID' 'Speed Limit'\n",
      " 'Vehicle Body Type' 'Vehicle Continuing Dir' 'Vehicle Damage Extent'\n",
      " 'Vehicle First Impact Location' 'Vehicle Going Dir' 'Vehicle ID'\n",
      " 'Vehicle Make' 'Vehicle Model' 'Vehicle Movement'\n",
      " 'Vehicle Second Impact Location' 'Vehicle Year']\n",
      "['At Fault' 'Direction' 'Distance' 'Distance Unit' 'First Harmful Event'\n",
      " 'Fixed Oject Struck' 'Hit/Run' 'Intersection Area' 'Intersection Type'\n",
      " 'Junction' 'Lane Direction' 'Lane Number' 'Lane Type' 'Mile Point'\n",
      " 'Mile Point Direction' 'NonTraffic' 'Number of Lanes' 'Road Alignment'\n",
      " 'Road Condition' 'Road Division' 'Road Grade' 'Second Harmful Event']\n"
     ]
    }
   ],
   "source": [
    "# Get the variables for each data set\n",
    "driversVars = np.array(driverData.columns)\n",
    "incidentVars = np.array(incidentData.columns)\n",
    "# Find the unique variable names in each\n",
    "sharedVars = np.intersect1d(driversVars, incidentVars)\n",
    "driversUniqueVars = np.setdiff1d(driversVars, sharedVars)\n",
    "incidentUniqueVars = np.setdiff1d(incidentVars, sharedVars)\n",
    "print(f\"Shared Variables: {str(sharedVars)}\")\n",
    "print(f\"Driver Data: {str(driversUniqueVars)}\")\n",
    "print(f\"Incident Data: {str(incidentUniqueVars)}\")"
   ]
  },
  {
   "cell_type": "markdown",
   "metadata": {},
   "source": [
    "Looking at the shared variables, there's important information that will help with the merge between the sets, like `Report Number` and `Driver Substance Abuse`. Each dataset has their own unique set of variables that's important to consider when performing our data analysis and regression. For example, the drivers data has information like `Injury Severity`, `Vehicle Damage Extent`, `Speed Limit`, `Vehicle Body Type`, and more. The incident data has information on `Hit/Run`, `First Harmful Event`, `Junctions`, and more which we will include. Some of the information between the two data sets have different column names, but the values are the same or similar like `Driver At Fault` in drivers data and `At Fault` in incidents data, \n",
    "\n",
    "So, what kind of information is important for regression analysis? Or more importantly, what information is not important and won't/can't be used, and that can be dropped from the datasets.<br>\n",
    "**Unimportant Information:**\n",
    "- `Local Case Number` ; There is already Report Number, which is more specific and suited to this projects purposes\n",
    "- `Offroad Description`, Circumstance ; Descriptions are too specific to connect with other information\n",
    "- `Vehicle Continuing Dir`, `Vehicle Going Dir` ; Direction of travel, but what angle the other vehicle was hit may be important\n",
    "- `Location`, `Longitude`, and `Latitude` ; This project is not concerned with geographical data, since there is Municipality\n",
    "- `Person ID` ; Not concerned with specific identities\n",
    "- `Driverless Vehicle` ; Non applicable, driverless vehicles cannot drink and drive (that is known of)\n",
    "- `Cross-Street Type`, `Cross-Street Name` ; Only concerned with single road name \n",
    "- `At Fault` ; There is already `Driver At Fault` in driver data\n",
    "- `Mile Point`, `Mile Point Direction`, `Lane Direction`, `Lane Number`, `Distance Unit`<br>\n",
    "\n",
    "Now let's get our merged data minus all unimportant information"
   ]
  },
  {
   "cell_type": "code",
   "execution_count": 45,
   "metadata": {},
   "outputs": [
    {
     "name": "stdout",
     "output_type": "stream",
     "text": [
      "  Report Number                Agency Name       ACRS Report Type         Crash Date/Time        Route Type       Road Name Municipality Related Non-Motorist           Collision Type  Weather Surface Condition           Light Traffic Control Driver Substance Abuse Non-Motorist Substance Abuse Driver At Fault     Injury Severity Circumstance            Driver Distracted By Drivers License State                            Vehicle ID Vehicle Damage Extent Vehicle First Impact Location Vehicle Second Impact Location                                       Vehicle Body Type         Vehicle Movement  Speed Limit Parked Vehicle  Vehicle Year Vehicle Make Vehicle Model Equipment Problems Hit/Run Lane Type  Number of Lanes Direction  Distance Road Grade NonTraffic First Harmful Event Second Harmful Event Fixed Oject Struck              Junction      Intersection Type Intersection Area Road Alignment Road Condition                              Road Division\n",
      "0   MCP3040003N   Montgomery County Police  Property Damage Crash  05/31/2019 03:00:00 PM               NaN             NaN          NaN                  NaN                    OTHER    CLEAR               NaN        DAYLIGHT             NaN                UNKNOWN                          NaN             Yes  NO APPARENT INJURY          NaN                         UNKNOWN                   NaN  165AD539-A8C8-4004-AF73-B7DCAAA8B3CC           SUPERFICIAL                    ONE OCLOCK                     ONE OCLOCK                                           PASSENGER CAR                  PARKING           15             No          2004        HONDA            TK            UNKNOWN     Yes       NaN                0       NaN       NaN        NaN        Yes      PARKED VEHICLE                  NaN                NaN                   NaN                    NaN               NaN            NaN            NaN                                        NaN\n",
      "1   MCP1307000K   Montgomery County Police  Property Damage Crash  05/24/2019 05:00:00 PM               NaN             NaN          NaN                  NaN                      NaN    CLEAR               NaN        DAYLIGHT             NaN                    NaN                          NaN             Yes  NO APPARENT INJURY          NaN                  NOT DISTRACTED                    XX  10239493-D667-42F9-A3D2-820FE184CB6C            FUNCTIONAL                    ONE OCLOCK                     ONE OCLOCK                                           PASSENGER CAR                  PARKING            0             No             0          UNK           UNK                NaN     Yes       NaN                0       NaN       NaN        NaN        Yes      PARKED VEHICLE                  NaN                NaN                   NaN                    NaN               NaN            NaN            NaN                                        NaN\n",
      "2   MCP2846008X   Montgomery County Police  Property Damage Crash  07/17/2023 10:45:00 AM            County    SELFRIDGE RD          NaN                  NaN                    OTHER    CLEAR               DRY  DARK LIGHTS ON  TRAFFIC SIGNAL                UNKNOWN                          NaN             Yes  NO APPARENT INJURY          NaN  INATTENTIVE OR LOST IN THOUGHT                    MD  8B61B8E0-5473-4C78-A654-6029684ABD03           SUPERFICIAL                  SEVEN OCLOCK                   SEVEN OCLOCK                                           PASSENGER CAR    MOVING CONSTANT SPEED           35             No          2003         FORD            TK          NO MISUSE     Yes       NaN                3     South       0.0      LEVEL         No       OTHER VEHICLE                  NaN                NaN          INTERSECTION  FOUR-WAY INTERSECTION               NaN       STRAIGHT     NO DEFECTS  TWO-WAY, DIVIDED, POSITIVE MEDIAN BARRIER\n",
      "3   MCP2846008X   Montgomery County Police  Property Damage Crash  07/17/2023 10:45:00 AM            County    SELFRIDGE RD          NaN                  NaN                    OTHER    CLEAR               DRY  DARK LIGHTS ON  TRAFFIC SIGNAL                UNKNOWN                          NaN              No  NO APPARENT INJURY          NaN                  NOT DISTRACTED                    MD  4303CA98-7852-466F-8FF6-1FFE1DBBA06B           SUPERFICIAL                    ONE OCLOCK                     ONE OCLOCK                                           PASSENGER CAR    MOVING CONSTANT SPEED           25             No          2016         TOYT       COROLLA          NO MISUSE     Yes       NaN                3     South       0.0      LEVEL         No       OTHER VEHICLE                  NaN                NaN          INTERSECTION  FOUR-WAY INTERSECTION               NaN       STRAIGHT     NO DEFECTS  TWO-WAY, DIVIDED, POSITIVE MEDIAN BARRIER\n",
      "4    EJ78520081  Gaithersburg Police Depar  Property Damage Crash  07/13/2023 05:40:00 PM      Municipality      PERRY PKWY          NaN                  NaN        SAME DIR REAR END      NaN               DRY        DAYLIGHT     NO CONTROLS                    NaN                          NaN             Yes  NO APPARENT INJURY          NaN          LOOKED BUT DID NOT SEE                    MD  C2EF337E-5881-48ED-9B06-36D0BE00557C           SUPERFICIAL                 TWELVE OCLOCK                  TWELVE OCLOCK  MEDIUM/HEAVY TRUCKS 3 AXLES (OVER 10,000LBS (4,536KG))    MOVING CONSTANT SPEED           25             No          2001     KENWORTH         TRUCK                NaN      No   UNKNOWN                2     North       0.0      LEVEL         No       OTHER VEHICLE                  NaN                NaN  INTERSECTION RELATED         TRAFFIC CIRCLE               NaN          OTHER     NO DEFECTS                         ONE-WAY TRAFFICWAY\n",
      "5    EJ78520081  Gaithersburg Police Depar  Property Damage Crash  07/13/2023 05:40:00 PM      Municipality      PERRY PKWY          NaN                  NaN        SAME DIR REAR END      NaN               DRY        DAYLIGHT     NO CONTROLS                    NaN                          NaN              No  NO APPARENT INJURY          NaN                         UNKNOWN                    MD  B346CA35-749A-4C9A-BFBF-B463DE7F8B4E            FUNCTIONAL                    SIX OCLOCK                     SIX OCLOCK                                           PASSENGER CAR    MOVING CONSTANT SPEED           25             No          2006   VOLKSWAGEN        BEETLE                NaN      No   UNKNOWN                2     North       0.0      LEVEL         No       OTHER VEHICLE                  NaN                NaN  INTERSECTION RELATED         TRAFFIC CIRCLE               NaN          OTHER     NO DEFECTS                         ONE-WAY TRAFFICWAY\n",
      "6   MCP3163005L   Montgomery County Police  Property Damage Crash  07/23/2023 03:55:00 PM  Maryland (State)  ROCKVILLE PIKE          NaN                  NaN        SAME DIR REAR END    CLEAR               DRY        DAYLIGHT  TRAFFIC SIGNAL                    NaN                          NaN              No  NO APPARENT INJURY          NaN                  NOT DISTRACTED                    MD  6FA5AA9A-7D9D-4CD7-A600-8F16E5E13455             DISABLING                    SIX OCLOCK                     SIX OCLOCK                                           PASSENGER CAR      SLOWING OR STOPPING           35             No          2014        HONDA         CIVIC                NaN      No       NaN                4     North       0.0      LEVEL         No       OTHER VEHICLE        OTHER VEHICLE                NaN          INTERSECTION  FOUR-WAY INTERSECTION               NaN       STRAIGHT     NO DEFECTS  TWO-WAY, DIVIDED, POSITIVE MEDIAN BARRIER\n",
      "7   MCP3163005L   Montgomery County Police  Property Damage Crash  07/23/2023 03:55:00 PM  Maryland (State)  ROCKVILLE PIKE          NaN                  NaN        SAME DIR REAR END    CLEAR               DRY        DAYLIGHT  TRAFFIC SIGNAL                    NaN                          NaN             Yes  NO APPARENT INJURY          NaN          LOOKED BUT DID NOT SEE                    MD  82832017-9C62-4536-A0FE-ABABD6B346B3             DISABLING                 TWELVE OCLOCK                  TWELVE OCLOCK                                           PASSENGER CAR    MOVING CONSTANT SPEED           35             No          2009         HYUN        ACCENT                NaN      No       NaN                4     North       0.0      LEVEL         No       OTHER VEHICLE        OTHER VEHICLE                NaN          INTERSECTION  FOUR-WAY INTERSECTION               NaN       STRAIGHT     NO DEFECTS  TWO-WAY, DIVIDED, POSITIVE MEDIAN BARRIER\n",
      "8   MCP3163005L   Montgomery County Police  Property Damage Crash  07/23/2023 03:55:00 PM  Maryland (State)  ROCKVILLE PIKE          NaN                  NaN        SAME DIR REAR END    CLEAR               DRY        DAYLIGHT  TRAFFIC SIGNAL                    NaN                          NaN              No  NO APPARENT INJURY          NaN                  NOT DISTRACTED                    MD  7DC3E18B-151E-4F16-80F2-FE107E5E8494            FUNCTIONAL                    SIX OCLOCK                     SIX OCLOCK                                            PICKUP TRUCK  STOPPED IN TRAFFIC LANE           35             No          2000         TOYT        TACOMA                NaN      No       NaN                4     North       0.0      LEVEL         No       OTHER VEHICLE        OTHER VEHICLE                NaN          INTERSECTION  FOUR-WAY INTERSECTION               NaN       STRAIGHT     NO DEFECTS  TWO-WAY, DIVIDED, POSITIVE MEDIAN BARRIER\n",
      "9   MCP33080022   Montgomery County Police           Injury Crash  07/08/2023 05:51:00 PM  Maryland (State)   VEIRS MILL RD          NaN                  NaN  STRAIGHT MOVEMENT ANGLE  RAINING               WET        DAYLIGHT  TRAFFIC SIGNAL          NONE DETECTED                          NaN              No  NO APPARENT INJURY          NaN                  NOT DISTRACTED                    MD  2F850A26-B88A-4F96-B377-BBEACDAC5563             DISABLING                 TWELVE OCLOCK                  TWELVE OCLOCK                                 (SPORT) UTILITY VEHICLE    MOVING CONSTANT SPEED           30             No          2023         TOYT         RAV 4          NO MISUSE      No       NaN                3      East       0.0      LEVEL         No       OTHER VEHICLE                  NaN                NaN          INTERSECTION  FOUR-WAY INTERSECTION      INTERSECTION       STRAIGHT     NO DEFECTS  TWO-WAY, DIVIDED, POSITIVE MEDIAN BARRIER\n"
     ]
    }
   ],
   "source": [
    "# Make a list of all the vars to drop\n",
    "unnecessary_vars = ['Local Case Number', 'Off-Road Description', 'Vehicle Continuing Dir', \n",
    "'Vehicle Going Dir', 'Location', 'Longitude', 'Latitude', 'Person ID',\n",
    "'Driverless Vehicle', 'Cross-Street Type', 'Cross-Street Name', 'At Fault', 'Mile Point',\n",
    "'Mile Point', 'Mile Point Direction', 'Lane Direction', 'Lane Number', 'Distance Unit']\n",
    "# Merge using shared Variables to ensure no incidents with same report number but different attributes\n",
    "data = pd.merge(driverData, incidentData, how='inner', on=list(sharedVars))\n",
    "data.drop(columns=unnecessary_vars, inplace=True)\n",
    "print(data.head(10).to_string())"
   ]
  },
  {
   "cell_type": "markdown",
   "metadata": {},
   "source": [
    "Now the data is more clean, only including the variables that we consider important. We can do some more cleaning of the data and aggregate some values. "
   ]
  },
  {
   "cell_type": "markdown",
   "metadata": {},
   "source": [
    "## **Part 2: Data Exploration and Analysis**\n"
   ]
  }
 ],
 "metadata": {
  "kernelspec": {
   "display_name": "Python 3",
   "language": "python",
   "name": "python3"
  },
  "language_info": {
   "codemirror_mode": {
    "name": "ipython",
    "version": 3
   },
   "file_extension": ".py",
   "mimetype": "text/x-python",
   "name": "python",
   "nbconvert_exporter": "python",
   "pygments_lexer": "ipython3",
   "version": "3.11.2"
  },
  "orig_nbformat": 4
 },
 "nbformat": 4,
 "nbformat_minor": 2
}
